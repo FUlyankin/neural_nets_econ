{
 "cells": [
  {
   "cell_type": "markdown",
   "metadata": {},
   "source": [
    "# Домашка 1 \n",
    "\n",
    "В этой домашке вам предстоит вкусить Keras на полную катушку и решить задачку на регрессию. В самом конце вам предстоит немного поработать с метриками и сделать парочку бизнес-выводов. Кроме того, рекомендую прочитать про метрики регрессии [главу из будущей книги Дьяконова.](https://alexanderdyakonov.files.wordpress.com/2018/10/book_08_metrics_12_blog1.pdf)  В тексте домашки к этой главе будет пара отсылок. __Поехали!__ "
   ]
  },
  {
   "cell_type": "code",
   "execution_count": 1,
   "metadata": {},
   "outputs": [],
   "source": [
    "# Как обычно, для начала подгружаем нужные нам пакеты\n",
    "import pandas as pd    # пакет для работы с таблицами \n",
    "import numpy as np     # пакет для работы с матрицами \n",
    "\n",
    "# пакеты для картиночек \n",
    "import matplotlib\n",
    "import matplotlib.pyplot as plt\n",
    "import seaborn as sns\n",
    "plt.style.use('ggplot')  # правильный (наиболее красивый) стиль у графиков\n",
    "\n",
    "%matplotlib inline\n",
    "\n",
    "from datetime import datetime # пакет для работы с датами "
   ]
  },
  {
   "cell_type": "markdown",
   "metadata": {},
   "source": [
    "Функция для того, чтобы на одной картинке смотреть те графики с прогнозами."
   ]
  },
  {
   "cell_type": "code",
   "execution_count": 2,
   "metadata": {},
   "outputs": [],
   "source": [
    "def plot_yreal_ypred(y_test, y_train, y_test_hat, y_train_hat):\n",
    "    \"\"\"\n",
    "        Рисует картинку для прогнозов регрессии \n",
    "    \"\"\"\n",
    "    \n",
    "    margin = 0.1 # отступ на границах\n",
    "    plt.figure(figsize=(10,5))\n",
    "    plt.subplot(121)\n",
    "    plt.scatter(y_train, y_train_hat, color=\"red\", alpha=0.5)\n",
    "    plt.xlabel('Истинные значения')\n",
    "    plt.ylabel('Предсказанные значения')\n",
    "    plt.axis('equal')\n",
    "    plt.axis('square')\n",
    "    train_min = min(y_train)\n",
    "    train_max = max(y_train)\n",
    "    plt.xlim(train_min - margin, train_max + margin)\n",
    "    plt.ylim(train_min - margin, train_max + margin)\n",
    "    plt.plot([-1000, 1000], [-1000, 1000])\n",
    "    plt.title('Train set', fontsize=20)\n",
    "\n",
    "    plt.subplot(122)\n",
    "    plt.scatter(y_test, y_test_hat, color=\"red\", alpha=0.5)\n",
    "    plt.xlabel('Истинные значения')\n",
    "    plt.ylabel('Предсказанные значения')\n",
    "    plt.axis('equal')\n",
    "    plt.axis('square')\n",
    "    test_min = min(y_test)\n",
    "    test_max = max(y_test)\n",
    "    plt.xlim(test_min - margin, test_max + margin)\n",
    "    plt.ylim(test_min - margin, test_max + margin)\n",
    "    plt.title('Test set', fontsize=20)\n",
    "    pass"
   ]
  },
  {
   "cell_type": "markdown",
   "metadata": {},
   "source": [
    "## Что будем делать? \n",
    "\n",
    "Иногда так бывает, что в твоих руках оказываются аж [$45$ магазинов торговой сети Walmart.](https://www.kaggle.com/c/walmart-recruiting-store-sales-forecasting) Каждый магазин содержит несколько отделов. Наша с вами задача попытаться спрогнозировать продажи по каждому отделу для каждого магазина. \n",
    "\n",
    "__Зачем?__ \n",
    "\n",
    "* Нельзя привозить в магазин слишком мало товара, потребителям его может не хватить. Мало того, что они не принесут нам денег, так ещё и станут менее лояльными: \"Не поедем в этот магазин. Там вечно ничего нет. Погнали лучше в Магнолию сходим. Там всё есть.\" \n",
    "* Нельзя привозить в магазин слишком много товара. Его нужно хранить. Это лишние расходы. Более того, товар может протухнуть. Придётся его списывать. Это тоже довольно неприятно. \n",
    "\n",
    "Хотелось бы порубить все эти издержки, и привезти в каждый магазин ровно столько, сколько надо. Как это сделать? Машинное обучение вам в помощь. Нужно попробовать предсказывать продажи и выстраивать логистику компании, отталкиваясь от этого. "
   ]
  },
  {
   "cell_type": "code",
   "execution_count": 3,
   "metadata": {},
   "outputs": [
    {
     "name": "stdout",
     "output_type": "stream",
     "text": [
      "Размерность таблицы: (421570, 16)\n"
     ]
    },
    {
     "data": {
      "text/html": [
       "<div>\n",
       "<style scoped>\n",
       "    .dataframe tbody tr th:only-of-type {\n",
       "        vertical-align: middle;\n",
       "    }\n",
       "\n",
       "    .dataframe tbody tr th {\n",
       "        vertical-align: top;\n",
       "    }\n",
       "\n",
       "    .dataframe thead th {\n",
       "        text-align: right;\n",
       "    }\n",
       "</style>\n",
       "<table border=\"1\" class=\"dataframe\">\n",
       "  <thead>\n",
       "    <tr style=\"text-align: right;\">\n",
       "      <th></th>\n",
       "      <th>Store</th>\n",
       "      <th>Date</th>\n",
       "      <th>Dept</th>\n",
       "      <th>Weekly_Sales</th>\n",
       "      <th>IsHoliday</th>\n",
       "      <th>Type</th>\n",
       "      <th>Size</th>\n",
       "      <th>Temperature</th>\n",
       "      <th>Fuel_Price</th>\n",
       "      <th>MarkDown1</th>\n",
       "      <th>MarkDown2</th>\n",
       "      <th>MarkDown3</th>\n",
       "      <th>MarkDown4</th>\n",
       "      <th>MarkDown5</th>\n",
       "      <th>CPI</th>\n",
       "      <th>Unemployment</th>\n",
       "    </tr>\n",
       "  </thead>\n",
       "  <tbody>\n",
       "    <tr>\n",
       "      <th>0</th>\n",
       "      <td>1</td>\n",
       "      <td>2010-02-05</td>\n",
       "      <td>1</td>\n",
       "      <td>24924.50</td>\n",
       "      <td>False</td>\n",
       "      <td>A</td>\n",
       "      <td>151315</td>\n",
       "      <td>42.31</td>\n",
       "      <td>2.572</td>\n",
       "      <td>NaN</td>\n",
       "      <td>NaN</td>\n",
       "      <td>NaN</td>\n",
       "      <td>NaN</td>\n",
       "      <td>NaN</td>\n",
       "      <td>211.096358</td>\n",
       "      <td>8.106</td>\n",
       "    </tr>\n",
       "    <tr>\n",
       "      <th>1</th>\n",
       "      <td>1</td>\n",
       "      <td>2010-02-05</td>\n",
       "      <td>2</td>\n",
       "      <td>50605.27</td>\n",
       "      <td>False</td>\n",
       "      <td>A</td>\n",
       "      <td>151315</td>\n",
       "      <td>42.31</td>\n",
       "      <td>2.572</td>\n",
       "      <td>NaN</td>\n",
       "      <td>NaN</td>\n",
       "      <td>NaN</td>\n",
       "      <td>NaN</td>\n",
       "      <td>NaN</td>\n",
       "      <td>211.096358</td>\n",
       "      <td>8.106</td>\n",
       "    </tr>\n",
       "    <tr>\n",
       "      <th>2</th>\n",
       "      <td>1</td>\n",
       "      <td>2010-02-05</td>\n",
       "      <td>3</td>\n",
       "      <td>13740.12</td>\n",
       "      <td>False</td>\n",
       "      <td>A</td>\n",
       "      <td>151315</td>\n",
       "      <td>42.31</td>\n",
       "      <td>2.572</td>\n",
       "      <td>NaN</td>\n",
       "      <td>NaN</td>\n",
       "      <td>NaN</td>\n",
       "      <td>NaN</td>\n",
       "      <td>NaN</td>\n",
       "      <td>211.096358</td>\n",
       "      <td>8.106</td>\n",
       "    </tr>\n",
       "    <tr>\n",
       "      <th>3</th>\n",
       "      <td>1</td>\n",
       "      <td>2010-02-05</td>\n",
       "      <td>4</td>\n",
       "      <td>39954.04</td>\n",
       "      <td>False</td>\n",
       "      <td>A</td>\n",
       "      <td>151315</td>\n",
       "      <td>42.31</td>\n",
       "      <td>2.572</td>\n",
       "      <td>NaN</td>\n",
       "      <td>NaN</td>\n",
       "      <td>NaN</td>\n",
       "      <td>NaN</td>\n",
       "      <td>NaN</td>\n",
       "      <td>211.096358</td>\n",
       "      <td>8.106</td>\n",
       "    </tr>\n",
       "    <tr>\n",
       "      <th>4</th>\n",
       "      <td>1</td>\n",
       "      <td>2010-02-05</td>\n",
       "      <td>5</td>\n",
       "      <td>32229.38</td>\n",
       "      <td>False</td>\n",
       "      <td>A</td>\n",
       "      <td>151315</td>\n",
       "      <td>42.31</td>\n",
       "      <td>2.572</td>\n",
       "      <td>NaN</td>\n",
       "      <td>NaN</td>\n",
       "      <td>NaN</td>\n",
       "      <td>NaN</td>\n",
       "      <td>NaN</td>\n",
       "      <td>211.096358</td>\n",
       "      <td>8.106</td>\n",
       "    </tr>\n",
       "  </tbody>\n",
       "</table>\n",
       "</div>"
      ],
      "text/plain": [
       "   Store        Date  Dept  Weekly_Sales  IsHoliday Type    Size  Temperature  \\\n",
       "0      1  2010-02-05     1      24924.50      False    A  151315        42.31   \n",
       "1      1  2010-02-05     2      50605.27      False    A  151315        42.31   \n",
       "2      1  2010-02-05     3      13740.12      False    A  151315        42.31   \n",
       "3      1  2010-02-05     4      39954.04      False    A  151315        42.31   \n",
       "4      1  2010-02-05     5      32229.38      False    A  151315        42.31   \n",
       "\n",
       "   Fuel_Price  MarkDown1  MarkDown2  MarkDown3  MarkDown4  MarkDown5  \\\n",
       "0       2.572        NaN        NaN        NaN        NaN        NaN   \n",
       "1       2.572        NaN        NaN        NaN        NaN        NaN   \n",
       "2       2.572        NaN        NaN        NaN        NaN        NaN   \n",
       "3       2.572        NaN        NaN        NaN        NaN        NaN   \n",
       "4       2.572        NaN        NaN        NaN        NaN        NaN   \n",
       "\n",
       "          CPI  Unemployment  \n",
       "0  211.096358         8.106  \n",
       "1  211.096358         8.106  \n",
       "2  211.096358         8.106  \n",
       "3  211.096358         8.106  \n",
       "4  211.096358         8.106  "
      ]
     },
     "execution_count": 3,
     "metadata": {},
     "output_type": "execute_result"
    }
   ],
   "source": [
    "df = pd.read_csv('walmart.csv', sep='\\t')\n",
    "print('Размерность таблицы:', df.shape)\n",
    "df.head()"
   ]
  },
  {
   "cell_type": "markdown",
   "metadata": {},
   "source": [
    "Посмотрим на пропуски в данных. Всё, что заштриховано жёлтым - это пропуск."
   ]
  },
  {
   "cell_type": "code",
   "execution_count": 4,
   "metadata": {},
   "outputs": [
    {
     "data": {
      "image/png": "[encoded data removed]",
      "text/plain": [
       "<Figure size 1440x864 with 1 Axes>"
      ]
     },
     "metadata": {
      "needs_background": "light"
     },
     "output_type": "display_data"
    }
   ],
   "source": [
    "fig, ax = plt.subplots(figsize=(20,12))\n",
    "sns_heatmap = sns.heatmap(df.isnull(), yticklabels=False, cbar=False, cmap='viridis')"
   ]
  },
  {
   "cell_type": "markdown",
   "metadata": {},
   "source": [
    "__Описание колонок:__ \n",
    "\n",
    "* `Weekly_Sales` - объём продаж в данную неделю в данном отделе (целевая переменная)\n",
    "* `Store` - номер магазина;\n",
    "* `Type` - тип магазина;\n",
    "* `Size` - размер магазина;\n",
    "* `Dept` - номер отдела;\n",
    "* `Date` - дата;\n",
    "* `IsHoliday` - является ли неделя праздничной;\n",
    "\n",
    "В Walmart работает несколько акций по уценке товаров. Эти уценки обычно связаны с праздниками: Суперкубок, день Труда, день Благодарения, Рождество. С этими периодами нужно быть аккуратным. Продажи в эти дни аномальны, при этом наблюдений, связанных с этими аномалиями довольно мало.\n",
    "\n",
    "Для удобства вот информация о всех праздниках, попавших в датасет: \n",
    "\n",
    "```\n",
    "Суперкубок: 12-Фев-10, 11-Фев-11, 10-Фев-12\n",
    "День Труда: 10-Сен-10, 9-Фев-11, 7-Сен-12\n",
    "День Благодарения: 26-Ноя-10, 25-Ноя-11, 23-Ноя-12\n",
    "Рождество: 31-Дек-10, 30-Дек-11, 28-Дек-12\n",
    "```\n",
    "\n",
    "* `Temperature` - средняя температура в регионе в градусах по Фаренгейту;\n",
    "* `Fuel_Price` - стоимость топлива в регионе;\n",
    "* `MarkDown1-5` - данные, связанные с рекламными уценками, которые запускает Walmart. Данные уценки доступны только после ноября 2011 года и доступны не для всех магазинов. Данные анонимизированы. Непонятно на какие именно товары производилась уценка и в каких количествах. Компании часто анонимизируют данные, когда выкладывают их в открытый доступ.  \n",
    "* `CPI` - индекс потребительских цен.\n",
    "* `Unemployment` - уровень безработицы.\n"
   ]
  },
  {
   "cell_type": "markdown",
   "metadata": {},
   "source": [
    "Посмотрим на динамику средних цен в течение всего наблюдаемого периода. Обратите внимание на пики в праздниках."
   ]
  },
  {
   "cell_type": "code",
   "execution_count": 5,
   "metadata": {},
   "outputs": [
    {
     "data": {
      "image/png": "[encoded data removed]",
      "text/plain": [
       "<Figure size 1080x360 with 1 Axes>"
      ]
     },
     "metadata": {
      "needs_background": "light"
     },
     "output_type": "display_data"
    }
   ],
   "source": [
    "df.groupby('Date')['Weekly_Sales'].mean().plot(figsize=(15,5));"
   ]
  },
  {
   "cell_type": "markdown",
   "metadata": {},
   "source": [
    "Сварим таргет и поговорим о предпосылках. "
   ]
  },
  {
   "cell_type": "code",
   "execution_count": 6,
   "metadata": {},
   "outputs": [
    {
     "data": {
      "text/plain": [
       "'2012-10-26'"
      ]
     },
     "execution_count": 6,
     "metadata": {},
     "output_type": "execute_result"
    }
   ],
   "source": [
    "dates = df.Date.unique()\n",
    "date_end = dates[-1]\n",
    "date_end"
   ]
  },
  {
   "cell_type": "code",
   "execution_count": 7,
   "metadata": {},
   "outputs": [
    {
     "data": {
      "text/html": [
       "<div>\n",
       "<style scoped>\n",
       "    .dataframe tbody tr th:only-of-type {\n",
       "        vertical-align: middle;\n",
       "    }\n",
       "\n",
       "    .dataframe tbody tr th {\n",
       "        vertical-align: top;\n",
       "    }\n",
       "\n",
       "    .dataframe thead th {\n",
       "        text-align: right;\n",
       "    }\n",
       "</style>\n",
       "<table border=\"1\" class=\"dataframe\">\n",
       "  <thead>\n",
       "    <tr style=\"text-align: right;\">\n",
       "      <th></th>\n",
       "      <th>Store</th>\n",
       "      <th>Date</th>\n",
       "      <th>Dept</th>\n",
       "      <th>Weekly_Sales</th>\n",
       "      <th>IsHoliday</th>\n",
       "      <th>Type</th>\n",
       "      <th>Size</th>\n",
       "      <th>Temperature</th>\n",
       "      <th>Fuel_Price</th>\n",
       "      <th>MarkDown1</th>\n",
       "      <th>MarkDown2</th>\n",
       "      <th>MarkDown3</th>\n",
       "      <th>MarkDown4</th>\n",
       "      <th>MarkDown5</th>\n",
       "      <th>CPI</th>\n",
       "      <th>Unemployment</th>\n",
       "      <th>future_sales</th>\n",
       "    </tr>\n",
       "  </thead>\n",
       "  <tbody>\n",
       "    <tr>\n",
       "      <th>0</th>\n",
       "      <td>1</td>\n",
       "      <td>2010-02-05</td>\n",
       "      <td>1</td>\n",
       "      <td>24924.50</td>\n",
       "      <td>True</td>\n",
       "      <td>A</td>\n",
       "      <td>151315</td>\n",
       "      <td>42.31</td>\n",
       "      <td>2.572</td>\n",
       "      <td>NaN</td>\n",
       "      <td>NaN</td>\n",
       "      <td>NaN</td>\n",
       "      <td>NaN</td>\n",
       "      <td>NaN</td>\n",
       "      <td>211.096358</td>\n",
       "      <td>8.106</td>\n",
       "      <td>46039.49</td>\n",
       "    </tr>\n",
       "    <tr>\n",
       "      <th>73</th>\n",
       "      <td>1</td>\n",
       "      <td>2010-02-12</td>\n",
       "      <td>1</td>\n",
       "      <td>46039.49</td>\n",
       "      <td>False</td>\n",
       "      <td>A</td>\n",
       "      <td>151315</td>\n",
       "      <td>38.51</td>\n",
       "      <td>2.548</td>\n",
       "      <td>NaN</td>\n",
       "      <td>NaN</td>\n",
       "      <td>NaN</td>\n",
       "      <td>NaN</td>\n",
       "      <td>NaN</td>\n",
       "      <td>211.242170</td>\n",
       "      <td>8.106</td>\n",
       "      <td>41595.55</td>\n",
       "    </tr>\n",
       "    <tr>\n",
       "      <th>145</th>\n",
       "      <td>1</td>\n",
       "      <td>2010-02-19</td>\n",
       "      <td>1</td>\n",
       "      <td>41595.55</td>\n",
       "      <td>False</td>\n",
       "      <td>A</td>\n",
       "      <td>151315</td>\n",
       "      <td>39.93</td>\n",
       "      <td>2.514</td>\n",
       "      <td>NaN</td>\n",
       "      <td>NaN</td>\n",
       "      <td>NaN</td>\n",
       "      <td>NaN</td>\n",
       "      <td>NaN</td>\n",
       "      <td>211.289143</td>\n",
       "      <td>8.106</td>\n",
       "      <td>19403.54</td>\n",
       "    </tr>\n",
       "    <tr>\n",
       "      <th>218</th>\n",
       "      <td>1</td>\n",
       "      <td>2010-02-26</td>\n",
       "      <td>1</td>\n",
       "      <td>19403.54</td>\n",
       "      <td>False</td>\n",
       "      <td>A</td>\n",
       "      <td>151315</td>\n",
       "      <td>46.63</td>\n",
       "      <td>2.561</td>\n",
       "      <td>NaN</td>\n",
       "      <td>NaN</td>\n",
       "      <td>NaN</td>\n",
       "      <td>NaN</td>\n",
       "      <td>NaN</td>\n",
       "      <td>211.319643</td>\n",
       "      <td>8.106</td>\n",
       "      <td>21827.90</td>\n",
       "    </tr>\n",
       "    <tr>\n",
       "      <th>290</th>\n",
       "      <td>1</td>\n",
       "      <td>2010-03-05</td>\n",
       "      <td>1</td>\n",
       "      <td>21827.90</td>\n",
       "      <td>False</td>\n",
       "      <td>A</td>\n",
       "      <td>151315</td>\n",
       "      <td>46.50</td>\n",
       "      <td>2.625</td>\n",
       "      <td>NaN</td>\n",
       "      <td>NaN</td>\n",
       "      <td>NaN</td>\n",
       "      <td>NaN</td>\n",
       "      <td>NaN</td>\n",
       "      <td>211.350143</td>\n",
       "      <td>8.106</td>\n",
       "      <td>21043.39</td>\n",
       "    </tr>\n",
       "  </tbody>\n",
       "</table>\n",
       "</div>"
      ],
      "text/plain": [
       "     Store        Date  Dept  Weekly_Sales IsHoliday Type    Size  \\\n",
       "0        1  2010-02-05     1      24924.50      True    A  151315   \n",
       "73       1  2010-02-12     1      46039.49     False    A  151315   \n",
       "145      1  2010-02-19     1      41595.55     False    A  151315   \n",
       "218      1  2010-02-26     1      19403.54     False    A  151315   \n",
       "290      1  2010-03-05     1      21827.90     False    A  151315   \n",
       "\n",
       "     Temperature  Fuel_Price  MarkDown1  MarkDown2  MarkDown3  MarkDown4  \\\n",
       "0          42.31       2.572        NaN        NaN        NaN        NaN   \n",
       "73         38.51       2.548        NaN        NaN        NaN        NaN   \n",
       "145        39.93       2.514        NaN        NaN        NaN        NaN   \n",
       "218        46.63       2.561        NaN        NaN        NaN        NaN   \n",
       "290        46.50       2.625        NaN        NaN        NaN        NaN   \n",
       "\n",
       "     MarkDown5         CPI  Unemployment  future_sales  \n",
       "0          NaN  211.096358         8.106      46039.49  \n",
       "73         NaN  211.242170         8.106      41595.55  \n",
       "145        NaN  211.289143         8.106      19403.54  \n",
       "218        NaN  211.319643         8.106      21827.90  \n",
       "290        NaN  211.350143         8.106      21043.39  "
      ]
     },
     "execution_count": 7,
     "metadata": {},
     "output_type": "execute_result"
    }
   ],
   "source": [
    "df.sort_values(['Store', 'Dept', 'Date'], inplace=True) # отсортировали по магазину, отделу, дате\n",
    "\n",
    "# теперь все объекты идут в таблице строка за строкой по времени\n",
    "# делаем сдвиг на 1 вверх, чтобы сварить таргет \n",
    "# получаем неадекватную цену на позиции date_end каждого магазина, их выкидываем.\n",
    "# Нет, это не костыль! Вы так всегда делали с рядами при подчёте лагов и получали снизу NA! \n",
    "\n",
    "df['future_sales'] = df.Weekly_Sales.shift(-1)\n",
    "df['IsHoliday'] = df.IsHoliday.shift(-1) # эту колонку мы знаем на будущее по календарю\n",
    "df = df[df.Date != date_end]\n",
    "\n",
    "df.head()"
   ]
  },
  {
   "cell_type": "code",
   "execution_count": 8,
   "metadata": {},
   "outputs": [
    {
     "data": {
      "text/plain": [
       "Type\n",
       "A    474330.10\n",
       "B    693099.36\n",
       "C    112152.35\n",
       "Name: Weekly_Sales, dtype: float64"
      ]
     },
     "execution_count": 8,
     "metadata": {},
     "output_type": "execute_result"
    }
   ],
   "source": [
    "# максимульные продажи в магазинах разного типа, чтобы придумать легенду и задачу решать было веселее\n",
    "df.groupby('Type')['Weekly_Sales'].max() "
   ]
  },
  {
   "cell_type": "markdown",
   "metadata": {},
   "source": [
    "__Предпосылка:__ \n",
    "\n",
    "* Будущие продажи зависят только от показателей текущей недели. Больше ни от чего зависимости нет. Пользуясь этой предпосылкой, мы фактически говорим, что __в данных нет структуры временного ряда.__ Единственное, есть AR(1) в продажах. Конечно же это неправда, но не хочется почём-зря усложнять задачу. Про временные ряды мы будем говорить отдельно.\n",
    "\n",
    "__Тестовый период:__ \n",
    "\n",
    "* Будем считать, что данные, начиная с `2012-04-27` нам неизвестны. На них мы будем применять получившуюся модель и смотреть насколько большими оказываются наши потери. \n",
    "\n",
    "__Ситуация сегодня (Это модельная ситуация, а не правда! Правду знает только Walmart, который всё заанонимизировал.):__ \n",
    "\n",
    "* Будем считать, что мы работаем со скоропортящимся продуктом. Если люди в течение недели его не раскупают, он протухает. Приходится его выкидывать.\n",
    "* Будем считать, что сейчас магазины работают очень-очень глупым образом: \n",
    "\n",
    "Все магазины делятся на три типа. В каждый мы специально закупаем слишком много продуктов. В магазины типа $A$ каждую неделю мы покупаем товара на $500000$, в магазины типа $B$ на $700000$, в магазины типа $C$ на $120000$. Всё, что остаётся в конце недели - списывается. Выходит, что те данные, которые мы видим в табличке - это реальный спрос на товар. \n",
    "\n",
    "Будем считать, что закупочные цены вдвоё ниже розничных. То есть, когда мы хотим продать товара на $500000$, как в случае магазина $A$, мы тритим на закупку $250000$. \n",
    "\n",
    "__Ситуация в будущем:__\n",
    "\n",
    "Магазину надоело тратить деньги на закупку впустую. Возникает желание научиться оптимизировать закупки. Для этого есть две стратегии.\n",
    "\n",
    "__Стратегия 1:__ Будем закупать на следущую неделю ровно столько продуктов, сколько было распродано за текущую неделю. Если потребители приходили в магазин и не могли купить товар, будем увеличивать закупку на $10000$.\n",
    "\n",
    "__Стратегия 2:__ Обучим нейросеть, которая будет прогнозировать продажи. Сколько она спрогнозировала, столько и будем привозить. \n",
    "\n",
    "\n",
    "### Задание 1 \n",
    "\n",
    "__[1]__ Сколько денег мы потеряем на тестовом периоде из-за лишних закупок, если продолжим действовать по той же самой стратегии? "
   ]
  },
  {
   "cell_type": "code",
   "execution_count": null,
   "metadata": {},
   "outputs": [],
   "source": [
    "### ╰( ͡° ͜ʖ ͡° )つ──☆"
   ]
  },
  {
   "cell_type": "markdown",
   "metadata": {},
   "source": [
    "__[1]__ Сколько денег позволяет сэкономить на закупках первая стратегия в течение тестового периода? "
   ]
  },
  {
   "cell_type": "code",
   "execution_count": null,
   "metadata": {},
   "outputs": [],
   "source": [
    "### ╰( ͡° ͜ʖ ͡° )つ──☆"
   ]
  },
  {
   "cell_type": "markdown",
   "metadata": {},
   "source": [
    "__[1]__ При использовании первой стратегии мы всё-равно потеряем какие-то деньги. Но ошибка в этот раз развалится на две части. Сколько при этом денег будет потеряно из-за перепрогноза? Сколько денег будет потеряно из-за недопрогноза?"
   ]
  },
  {
   "cell_type": "code",
   "execution_count": null,
   "metadata": {},
   "outputs": [],
   "source": [
    "### ╰( ͡° ͜ʖ ͡° )つ──☆"
   ]
  },
  {
   "cell_type": "markdown",
   "metadata": {},
   "source": [
    "### Задание 2\n",
    "\n",
    "Сварите фичи для дальнейшего обучения. Сделайте OHE, скалирование и тп. "
   ]
  },
  {
   "cell_type": "code",
   "execution_count": null,
   "metadata": {},
   "outputs": [],
   "source": [
    "### ╰( ͡° ͜ʖ ͡° )つ──☆"
   ]
  },
  {
   "cell_type": "markdown",
   "metadata": {},
   "source": [
    "__[3]__ Обучите линейную регрессию без подбора гиперпараметров. Выясните сколько денег она позволяет сэкономить на закупках в течение тестовго периода. Сколько при этом денег будет потеряно из-за перепрогноза? Сколько денег будет потеряно из-за недопрогноза? Правда ли, что линейная регрессия по ошибкам обоих типов оказывается лучше первой стратегии? "
   ]
  },
  {
   "cell_type": "code",
   "execution_count": null,
   "metadata": {},
   "outputs": [],
   "source": [
    "### ╰( ͡° ͜ʖ ͡° )つ──☆"
   ]
  },
  {
   "cell_type": "markdown",
   "metadata": {},
   "source": [
    "### Задание 3\n",
    "\n",
    "__[8]__ Обучите нейросетку предсказывать продажи. В качестве функции потерь используйте $MAE$. Как думаете, почему логично выбрать для этой задачи именно $MAE$?  \n",
    "\n",
    "Правда ли, что ваша нейросетка оказывается эффективнее регрессии по обеим ошибкам? "
   ]
  },
  {
   "cell_type": "code",
   "execution_count": null,
   "metadata": {},
   "outputs": [],
   "source": [
    "### ╰( ͡° ͜ʖ ͡° )つ──☆"
   ]
  },
  {
   "cell_type": "markdown",
   "metadata": {},
   "source": [
    "При обучении не стесняйтесь экспериментировать. \n",
    "\n",
    "1. Начните с маленькой сети. Не забывайте прикидывать сколько наблдюдений $n$ тратится на оценку каждого из $k$ параметров. Если величина $\\frac{n}{k}$ очень маленькая, то скорее всего понадобится много регуляризации.  \n",
    "2. Всегда оставляйте часть выборки под валидацию на каждой эпохе.\n",
    "3. Усложняйте модель, пока качество на валидации не начнёт падать.\n",
    "4. Не забывайте проскалировать ваши наблюдения для лучшей сходимости. \n",
    "5. Можно попробовать ещё целую серию различных **трюков**: \n",
    "\n",
    "\n",
    "* __Архитектура нейросети__\n",
    "    * Больше/меньше нейронов\n",
    "    * Больше/меньше слоёв \n",
    "    * Другие функции активации (tanh, relu, leaky relu, etc) \n",
    "    * Регуляризация (dropout, l1,l2) \n",
    "\n",
    "\n",
    "* __Более качественная оптимизация__  \n",
    "    * Можно попробовать выбрать другой метод оптимизации \n",
    "    * Можно попробовать менять скорость обучения, моментум и др.\n",
    "    * Разные начальные значения весов\n",
    "\n",
    "И это далеко не полный список."
   ]
  },
  {
   "cell_type": "code",
   "execution_count": null,
   "metadata": {},
   "outputs": [],
   "source": [
    "### ╰( ͡° ͜ʖ ͡° )つ──☆"
   ]
  },
  {
   "cell_type": "markdown",
   "metadata": {},
   "source": [
    "### Задание 4\n",
    "\n",
    "\n",
    "Процитирую параграф из [главы книги Дьяконова,](https://alexanderdyakonov.files.wordpress.com/2018/10/book_08_metrics_12_blog1.pdf) которую вы все точно прочитали. Я же попросил сделать это сначала на паре, а потом в описании этого задания. Ведь да? \n",
    "\n",
    "> Стоит обратить внимание, что не всегда функции ошибки симметричные. На\n",
    "практике часто ошибки в разные стороны (завышение и занижение)\n",
    "неравнозначны. Например, при прогнозировании спроса на товар: если наш\n",
    "алгоритм занижает число продаж, то мы рискуем, что товар быстро раскупят и\n",
    "будут недовольные покупатели. Если же завышает, то мы не сможем продать\n",
    "весь товар, он останется на складе (в дальнейшем его придётся продавать по\n",
    "сниженным ценам или возвращать поставщику). С точки зрения денежных\n",
    "потерь, «завысить прогноз на 10» и «занизить на 10» имеют разную стоимость.\n",
    "В таких случаях используют несимметичные функции ошибок.\n",
    "\n",
    "__[3]__ Пусть ошибка недопрогноза для нас страшнее. Оцените насколько (это творчество). По аналогии [с примерами из документации](https://github.com/keras-team/keras/blob/master/keras/losses.py) реализуйте такую функцию потерь и обучите свою архитектуру, используя её. "
   ]
  },
  {
   "cell_type": "code",
   "execution_count": null,
   "metadata": {},
   "outputs": [],
   "source": [
    "### ╰( ͡° ͜ʖ ͡° )つ──☆"
   ]
  },
  {
   "cell_type": "markdown",
   "metadata": {},
   "source": [
    "__[1]__ Какими получились ошибки на тестовом периоде? Сравните эти ошибки с ошибками, которые вы получили, обучая нейронку с помощью $MAE$. "
   ]
  },
  {
   "cell_type": "code",
   "execution_count": null,
   "metadata": {},
   "outputs": [],
   "source": [
    "### ╰( ͡° ͜ʖ ͡° )つ──☆"
   ]
  },
  {
   "cell_type": "markdown",
   "metadata": {},
   "source": [
    "__[2]__ Последний пункт! Он состоит из балобалии. Предположим, что ваша итоговая архитектура - пушка! Она рвёт все бэйзлайны и вы собираетесь с довольным, улыбающимся менеджером катить в прод. Поначалу модель будет работать просто отлично. Однако через какое-то время начнут всплывать проблемы. Что это за проблемы? Какие соломинки можно было бы подстелить для их решения? "
   ]
  },
  {
   "cell_type": "code",
   "execution_count": null,
   "metadata": {},
   "outputs": [],
   "source": [
    "### ╰( ͡° ͜ʖ ͡° )つ──☆"
   ]
  }
 ],
 "metadata": {
  "kernelspec": {
   "display_name": "Python 3",
   "language": "python",
   "name": "python3"
  },
  "language_info": {
   "codemirror_mode": {
    "name": "ipython",
    "version": 3
   },
   "file_extension": ".py",
   "mimetype": "text/x-python",
   "name": "python",
   "nbconvert_exporter": "python",
   "pygments_lexer": "ipython3",
   "version": "3.7.2"
  }
 },
 "nbformat": 4,
 "nbformat_minor": 2
}
