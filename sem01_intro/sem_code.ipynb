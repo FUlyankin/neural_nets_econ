{
 "cells": [
  {
   "cell_type": "code",
   "execution_count": 14,
   "metadata": {},
   "outputs": [
    {
     "name": "stdout",
     "output_type": "stream",
     "text": [
      "2.0.0\n",
      "2.2.4-tf\n"
     ]
    }
   ],
   "source": [
    "import tensorflow as tf\n",
    "from tensorflow import keras\n",
    "\n",
    "from tensorflow.keras import layers as L\n",
    "from tensorflow.keras import optimizers as opt\n",
    "from tensorflow.keras import Sequential, Model\n",
    "\n",
    "print(tf.__version__)\n",
    "print(keras.__version__)"
   ]
  },
  {
   "cell_type": "markdown",
   "metadata": {},
   "source": [
    "## Регрессия!"
   ]
  },
  {
   "cell_type": "code",
   "execution_count": 15,
   "metadata": {},
   "outputs": [
    {
     "data": {
      "text/plain": [
       "(404, 13)"
      ]
     },
     "execution_count": 15,
     "metadata": {},
     "output_type": "execute_result"
    }
   ],
   "source": [
    "from keras.datasets import boston_housing\n",
    "(x_train, y_train), (x_test, y_test) = boston_housing.load_data()\n",
    "x_train.shape"
   ]
  },
  {
   "cell_type": "code",
   "execution_count": 16,
   "metadata": {},
   "outputs": [
    {
     "data": {
      "text/plain": [
       "(404,)"
      ]
     },
     "execution_count": 16,
     "metadata": {},
     "output_type": "execute_result"
    }
   ],
   "source": [
    "y_train.shape"
   ]
  },
  {
   "cell_type": "code",
   "execution_count": 97,
   "metadata": {},
   "outputs": [],
   "source": [
    "model = Sequential() \n",
    "#model.add(L.InputLayer(13))\n",
    "model.add(L.Dense(50, input_dim = x_train.shape[1], \n",
    "                  activation='relu', \n",
    "                  kernel_initializer='uniform'))\n",
    "model.add(L.Dense(25, activation='relu',\n",
    "                 kernel_initializer='uniform'))\n",
    "model.add(L.Dense(10, activation='relu',\n",
    "                 kernel_initializer='uniform'))\n",
    "model.add(L.Dense(5, activation='relu',\n",
    "                 kernel_initializer='uniform'))\n",
    "model.add(L.Dense(1))\n",
    "\n",
    "optimizer = opt.SGD(lr=1e-3)\n",
    "\n",
    "model.compile(loss = 'mse', \n",
    "              metrics=[\"mae\"], \n",
    "              optimizer=optimizer)"
   ]
  },
  {
   "cell_type": "code",
   "execution_count": 98,
   "metadata": {},
   "outputs": [],
   "source": [
    "history = model.fit(x_train, \n",
    "          y_train,\n",
    "          validation_data=(x_test, y_test),\n",
    "          batch_size=64,\n",
    "          epochs=10000, verbose=False)"
   ]
  },
  {
   "cell_type": "code",
   "execution_count": 99,
   "metadata": {},
   "outputs": [
    {
     "name": "stdout",
     "output_type": "stream",
     "text": [
      "Model: \"sequential_25\"\n",
      "_________________________________________________________________\n",
      "Layer (type)                 Output Shape              Param #   \n",
      "=================================================================\n",
      "dense_92 (Dense)             (None, 50)                700       \n",
      "_________________________________________________________________\n",
      "dense_93 (Dense)             (None, 25)                1275      \n",
      "_________________________________________________________________\n",
      "dense_94 (Dense)             (None, 10)                260       \n",
      "_________________________________________________________________\n",
      "dense_95 (Dense)             (None, 5)                 55        \n",
      "_________________________________________________________________\n",
      "dense_96 (Dense)             (None, 1)                 6         \n",
      "=================================================================\n",
      "Total params: 2,296\n",
      "Trainable params: 2,296\n",
      "Non-trainable params: 0\n",
      "_________________________________________________________________\n"
     ]
    }
   ],
   "source": [
    "model.summary()"
   ]
  },
  {
   "cell_type": "code",
   "execution_count": 104,
   "metadata": {},
   "outputs": [
    {
     "data": {
      "image/png": "[encoded data removed]",
      "text/plain": [
       "<Figure size 432x288 with 1 Axes>"
      ]
     },
     "metadata": {
      "needs_background": "light"
     },
     "output_type": "display_data"
    }
   ],
   "source": [
    "import matplotlib.pyplot as plt\n",
    "\n",
    "start = 500\n",
    "plt.plot(history.history['loss'][start:])\n",
    "plt.plot(history.history['val_loss'][start:])\n",
    "plt.legend(['Train loss', 'Validation loss']);"
   ]
  },
  {
   "cell_type": "code",
   "execution_count": 115,
   "metadata": {},
   "outputs": [
    {
     "data": {
      "text/plain": [
       "<tf.Variable 'dense_94/bias:0' shape=(10,) dtype=float32, numpy=\n",
       "array([ 5.3958977e-03,  7.0739620e-06,  2.2630105e-05,  3.1236545e-04,\n",
       "        2.7044872e-03, -8.1357762e-04, -1.3874660e-03, -2.8986717e-04,\n",
       "        3.3866391e-03, -7.6402607e-04], dtype=float32)>"
      ]
     },
     "execution_count": 115,
     "metadata": {},
     "output_type": "execute_result"
    }
   ],
   "source": [
    "model.layers[2].weights[1]"
   ]
  },
  {
   "cell_type": "code",
   "execution_count": null,
   "metadata": {},
   "outputs": [],
   "source": []
  },
  {
   "cell_type": "code",
   "execution_count": 112,
   "metadata": {},
   "outputs": [
    {
     "data": {
      "text/plain": [
       "(404, 13)"
      ]
     },
     "execution_count": 112,
     "metadata": {},
     "output_type": "execute_result"
    }
   ],
   "source": [
    "x_train.shape"
   ]
  },
  {
   "cell_type": "code",
   "execution_count": null,
   "metadata": {},
   "outputs": [],
   "source": []
  }
 ],
 "metadata": {
  "kernelspec": {
   "display_name": "Python 3",
   "language": "python",
   "name": "python3"
  },
  "language_info": {
   "codemirror_mode": {
    "name": "ipython",
    "version": 3
   },
   "file_extension": ".py",
   "mimetype": "text/x-python",
   "name": "python",
   "nbconvert_exporter": "python",
   "pygments_lexer": "ipython3",
   "version": "3.7.2"
  }
 },
 "nbformat": 4,
 "nbformat_minor": 2
}
